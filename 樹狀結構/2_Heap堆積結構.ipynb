{
 "cells": [
  {
   "cell_type": "markdown",
   "metadata": {},
   "source": [
    "# Heap 堆積 結構\n",
    "Heap是一棵二元樹，樹根的鍵值大於子樹的鍵值，而且不管左子樹和右子樹的大小。所以<strong>堆積二元樹不會唯一</strong>，只要符合定義就可以。\n",
    "\n",
    "通常可以用於堆積排序(heap sort)。\n",
    "\n",
    "將二元樹調整為Heap的方法有三種。\n",
    "\n",
    "    1.從樹根開始與其左右子節點相比，若樹根比其左右子節點來得大，則不用交換。反之則交換。\n",
    "    2.承上，也可以左右子節點先比，較大者再與父節點比。\n",
    "    3.由下而上，先算出節點數N，再取其小於或等於n/2的最小整數k，由k開始到樹根，分別與它的最大子節點相比，若子節點的鍵值較大，則相互對調。每次對調完後還要繼續往下與其最大的子節點相比，看看是否還要對調。\n",
    "\n",
    "<img src=\"heap/Heap 堆積樹-2.jpg\" width=\"400px\"/>\n",
    "<img src=\"heap/Heap 堆積樹-3.jpg\" width=\"400px\"/>\n",
    "<img src=\"heap/Heap 堆積樹-4.jpg\" width=\"400px\"/>\n",
    "<img src=\"heap/Heap 堆積樹-5.jpg\" width=\"400px\"/>"
   ]
  },
  {
   "cell_type": "markdown",
   "metadata": {},
   "source": [
    "## 堆積的加入\n",
    "由二元樹的最末位置加入，再依照上述三種方法任選一種進行調整。"
   ]
  },
  {
   "cell_type": "markdown",
   "metadata": {},
   "source": [
    "## 堆積的刪除\n",
    "首先以完整二元樹的最後一個節點取代被刪除的節點，然後判斷是否為Heap，若不是，則要加以調整為Heap。\n",
    "\n",
    "<img src=\"heap/Heap 堆積樹-6.jpg\" width=\"400px\"/>\n",
    "\n",
    "<img src=\"heap/Heap 堆積樹-7.jpg\" width=\"400px\"/>\n",
    "\n",
    "<img src=\"heap/Heap 堆積樹-8.jpg\" width=\"400px\"/>\n",
    "\n",
    "<img src=\"heap/Heap 堆積樹-9.jpg\" width=\"400px\"/>"
   ]
  },
  {
   "cell_type": "markdown",
   "metadata": {},
   "source": [
    "## Min-Max Heap\n",
    "之前描述到的heap為Max-Heap，最大的節點在樹根。反過來樹根最小則為Min-Heap。\n",
    "\n",
    "Min-Max heap包含了Min-Heap和Max-Heap的特徵。它有以下特性：\n",
    "\n",
    "    1.Min-Max heap是以一層Min-Heap，一層Max-Heap交互構成的。\n",
    "    2.樹中為Min heap的部份，仍需符合Min heap的特性。\n",
    "    3.樹中為Max heap的部份，仍需符合Max heap的特性。\n",
    "    \n",
    "<strong>棋類對奕的AI通常的基礎演算法就是Min-Max heap。</strong>\n",
    "\n",
    "\n",
    "<img src=\"heap/Heap 堆積樹-10.jpg\" width=\"400px\"/>"
   ]
  },
  {
   "cell_type": "markdown",
   "metadata": {},
   "source": [
    "## Min-Max Heap的加入\n",
    "加入:先檢查是否符合第1特性，再檢查是否符合第2,第3特性。\n",
    "\n",
    "\n",
    "<img src=\"heap/Heap 堆積樹-11.jpg\" width=\"400px\"/>\n",
    "\n",
    "<img src=\"heap/Heap 堆積樹-12.jpg\" width=\"400px\"/>\n",
    "\n",
    "<img src=\"heap/Heap 堆積樹-13.jpg\" width=\"400px\"/>\n",
    "\n",
    "<img src=\"heap/Heap 堆積樹-14.jpg\" width=\"400px\"/>"
   ]
  },
  {
   "cell_type": "markdown",
   "metadata": {},
   "source": [
    "## Min-Max Heap的刪除\n",
    "刪除:\n",
    "\n",
    "    1.若是最後一個節點則直接刪除。\n",
    "    2.若是中間節點則以最後一個節點補上，再依第1,2,3特性進行調整。\n",
    "    \n",
    "    \n",
    "<img src=\"heap/Heap 堆積樹-15.jpg\" width=\"400px\"/>\n",
    "\n",
    "<img src=\"heap/Heap 堆積樹-16.jpg\" width=\"400px\"/>\n",
    "\n",
    "<img src=\"heap/Heap 堆積樹-17.jpg\" width=\"400px\"/>\n",
    "\n",
    "<img src=\"heap/Heap 堆積樹-18.jpg\" width=\"400px\"/>"
   ]
  },
  {
   "cell_type": "code",
   "execution_count": null,
   "metadata": {},
   "outputs": [],
   "source": []
  }
 ],
 "metadata": {
  "kernelspec": {
   "display_name": "Python 3",
   "language": "python",
   "name": "python3"
  },
  "language_info": {
   "codemirror_mode": {
    "name": "ipython",
    "version": 3
   },
   "file_extension": ".py",
   "mimetype": "text/x-python",
   "name": "python",
   "nbconvert_exporter": "python",
   "pygments_lexer": "ipython3",
   "version": "3.7.4"
  }
 },
 "nbformat": 4,
 "nbformat_minor": 4
}
