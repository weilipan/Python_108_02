{
 "cells": [
  {
   "cell_type": "markdown",
   "metadata": {},
   "source": [
    "# Height balanced binary search tree 高度平衡二元搜尋樹\n",
    "\n",
    "為避免歪斜樹造成搜尋時間的浪費，高度平衡二元搜尋樹發展出來，依提出者姓名(Adelson-Velskii, Landis, 1962)命名又稱為AVL-tree，它需要符合以下幾種情況：\n",
    "\n",
    "    1.空樹是高度平衡二元搜尋樹。\n",
    "    2.若T不是空樹，則需符合下列兩個條件\n",
    "        a.TL左子樹和TR右子樹也是高度平衡二元搜尋樹。\n",
    "        b.|HL-HR|<=1，其中HL為左子樹高度，HR為右子樹高度。\n",
    "        c.二元樹中某節點p，其左子樹和右子樹的高度差可以用BF(p)表示，BF代表Balance Factor平衡因子，BF(p)<=1。\n"
   ]
  },
  {
   "cell_type": "markdown",
   "metadata": {},
   "source": [
    "## 高度平衡二元搜尋樹的加入\n",
    "AVL-tree在加入或刪除節點時，可能會造成不平衡，可利用 LL, RR, LR, RL等四種不同的調整方式，使其符合AVL-tree的定義。其中 LL,RR; LR,RL 相互對稱。\n",
    "\n",
    "假設加入的新節點為N，若有一距此節點N最近，而且平衡因子為+-2的祖先節點p，則四種調整方式的使用時機如下：\n",
    "    \n",
    "    1.LL:加入的新節點N在節點p的左邊的左邊。\n",
    "    2.RR:加入的新節點N在節點p的右邊的右邊。\n",
    "    3.LR:加入的新節點N在節點p的左邊的右邊。\n",
    "    4.RL:加入的新節點N在節點p的右邊的左邊。\n",
    "    \n",
    "<img src=\"AVLTree/AVL-tree-2.jpg\" width=\"600px\"/>\n",
    "<img src=\"AVLTree/AVL-tree-3.jpg\" width=\"600px\"/>\n",
    "<img src=\"AVLTree/AVL-tree-4.jpg\" width=\"600px\"/>\n",
    "<img src=\"AVLTree/AVL-tree-5.jpg\" width=\"600px\"/>\n",
    "<img src=\"AVLTree/AVL-tree-6.jpg\" width=\"600px\"/>"
   ]
  },
  {
   "cell_type": "markdown",
   "metadata": {},
   "source": [
    "## 高度平衡二元搜尋樹的刪除\n",
    "刪除完動作完成後，必須再計算平衡因子，並做適當的調整。"
   ]
  },
  {
   "cell_type": "markdown",
   "metadata": {},
   "source": [
    "<img src=\"AVLTree/AVL-tree-7.jpg\" width=\"600px\"/>"
   ]
  },
  {
   "cell_type": "code",
   "execution_count": null,
   "metadata": {},
   "outputs": [],
   "source": []
  }
 ],
 "metadata": {
  "kernelspec": {
   "display_name": "Python 3",
   "language": "python",
   "name": "python3"
  },
  "language_info": {
   "codemirror_mode": {
    "name": "ipython",
    "version": 3
   },
   "file_extension": ".py",
   "mimetype": "text/x-python",
   "name": "python",
   "nbconvert_exporter": "python",
   "pygments_lexer": "ipython3",
   "version": "3.7.4"
  }
 },
 "nbformat": 4,
 "nbformat_minor": 4
}
