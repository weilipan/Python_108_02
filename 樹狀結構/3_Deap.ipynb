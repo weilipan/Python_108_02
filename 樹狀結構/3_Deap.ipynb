{
 "cells": [
  {
   "cell_type": "markdown",
   "metadata": {},
   "source": [
    "# Deap\n",
    "    1.Deap的樹根不儲存任何資料，為一空節點。\n",
    "\n",
    "    2.左子樹為Min-heap，右子樹為Max-heap。\n",
    "\n",
    "    3.Min-heap和Max-heap中存在一對應的關係，假設左子樹中有一節點i，則右子樹必定存在一節點j與其對應，同時i必須小於j。\n",
    "    \n",
    "    4.承上，若左子樹的某節點i找不到對應節點j，則要對應到j的父節點，i必須小於j的父節點。\n",
    "    \n",
    "<img src=\"Deap/Deap-2.jpg\" width=\"400px\"/>"
   ]
  },
  {
   "cell_type": "markdown",
   "metadata": {},
   "source": [
    "## Deap的加入\n",
    "將新加入的節點置於整棵樹的最後，接著再調整為符合Deap的定義。\n",
    "\n",
    "<img src=\"Deap/Deap-3.jpg\" width=\"400px\"/>\n",
    "\n",
    "<img src=\"Deap/Deap-4.jpg\" width=\"400px\"/>\n",
    "\n",
    "<img src=\"Deap/Deap-5.jpg\" width=\"400px\"/>\n",
    "\n"
   ]
  },
  {
   "cell_type": "markdown",
   "metadata": {},
   "source": [
    "## Deap的刪除\n",
    "若是最後一個節點則直接刪除。\n",
    "\n",
    "若是中間節點則刪除後以末節點補上再調整為符合Deap的定義。\n",
    "\n",
    "<img src=\"Deap/Deap-6.jpg\" width=\"400px\"/>\n",
    "\n",
    "<img src=\"Deap/Deap-7.jpg\" width=\"400px\"/>\n",
    "\n",
    "<img src=\"Deap/Deap-8.jpg\" width=\"400px\"/>"
   ]
  },
  {
   "cell_type": "code",
   "execution_count": null,
   "metadata": {},
   "outputs": [],
   "source": []
  },
  {
   "cell_type": "code",
   "execution_count": null,
   "metadata": {},
   "outputs": [],
   "source": []
  }
 ],
 "metadata": {
  "kernelspec": {
   "display_name": "Python 3",
   "language": "python",
   "name": "python3"
  },
  "language_info": {
   "codemirror_mode": {
    "name": "ipython",
    "version": 3
   },
   "file_extension": ".py",
   "mimetype": "text/x-python",
   "name": "python",
   "nbconvert_exporter": "python",
   "pygments_lexer": "ipython3",
   "version": "3.7.4"
  }
 },
 "nbformat": 4,
 "nbformat_minor": 4
}
