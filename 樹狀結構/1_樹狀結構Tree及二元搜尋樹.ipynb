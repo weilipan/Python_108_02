{
 "cells": [
  {
   "cell_type": "markdown",
   "metadata": {},
   "source": [
    "# Tree 樹狀結構\n",
    "\n",
    "樹的定義如下：由節點 <strong>nodes</strong> 和邊 <strong>edges</strong> 所組成的集合。它包括:\n",
    "    <ol>\n",
    "        <li>最頂端的節點稱為根節點 <strong>root</strong>。代表一般樹一定至少有一個節點。\n",
    "        <li>其餘的節點分為n個(n>=0)互斥的集合T1,T2,...,Tn，每一個集合皆是一棟樹。T1,T2,...,Tn是樹根的子樹 <strong>subtrees</strong>。\n",
    "    </ol>"
   ]
  },
  {
   "cell_type": "markdown",
   "metadata": {},
   "source": [
    "## 專有名詞解釋\n",
    "<img src=\"tree/Tree-1.png\" width=\"400px\"/>\n",
    "<ol>\n",
    "    <li>節點(node)與邊(edge):節點代表某項資料，而邊是指由一節點到另一節點的分支。</li>\n",
    "    <li>祖先(ancestor)節點與子孫(descendant)節點：若從節點X有一條路徑通往節點Y，則X是Y的祖先，Y是X的子孫。A是M的祖先，M是A的子孫。</li>\n",
    "    <li>父(parent)節點與子(children)節點，若節點X直接到節點Y，則X是Y的父節點，Y是X的子節點。</li>\n",
    "    <li>兄弟節點(sibling node):具有相同父節點的子節點。</li>\n",
    "    <li>非終點節點(non-terminal node):有子節點的節點。</li>\n",
    "    <li>葉節點(leaf node)或終點節點(terminal node):沒有子節點的節點。</li>\n",
    "    <li>分支度(degree):節點所擁有子節點的個數。</li>\n",
    "    <li>階度(level):節點中世代關係，根節點為1，往下累加。</li>\n",
    "    <li>高度(height):樹中某節點的高度，為此節點至樹葉節點的最長路徑。A的高度為3，F的高度為1。此樹的高度取此棵樹 <em>所有節點中高度最大的</em> ，所以此樹高度為3。</li>\n",
    "    <li>深度(depth):節點的深度為此節點至樹根的路徑長度。J,K的深度為3。G的深度為2</li>\n",
    "    <li>樹林(forest)是由n個互斥樹(disjoint trees)所組合而成的。一棵樹若去除樹根，則將形成樹林。若移除A節點，則形成三棵樹林。</li>\n",
    "</ol>"
   ]
  },
  {
   "cell_type": "markdown",
   "metadata": {},
   "source": [
    "一個節點的分支度即為它擁有的子節點個數。每個節點的分支度不一樣，所以一般用於儲存欄位長度取決於這棵樹的分支度。因此節點的資料結構如下：\n",
    "\n",
    "<table width=\"300\" border=\"1\" collapse>\n",
    "　<tr>\n",
    "     <td>DATA</td>\n",
    "     <td>LINK1</td>\n",
    "     <td>LINK2</td>\n",
    "     <td>......</td>\n",
    "     <td>LINK3</td>\n",
    "　</tr>\n",
    "</table>\n",
    "\n",
    "假設一棵樹的分支度為K，並有n個節點，則它需要nk個LINK欄位。\n",
    "\n",
    "除了樹根以外，每一節點都有一個LINK指向它，所以共有n-1個LINK。\n",
    "\n",
    "剩下nk-(n-1)=nk-n+1個LINK浪費。\n",
    "\n",
    "為了避免浪費太多的空間，將一般樹化為二元樹(binary tree)是有必要的。"
   ]
  },
  {
   "cell_type": "markdown",
   "metadata": {},
   "source": [
    "## 二元樹 Binary Tree\n",
    "二元樹(binary tree)的定義如下:它是由節點所組成的有限集合，這個集合不是空集合就是由左子樹(left subtree)和右子樹(right subtree)所組成的。其中左子樹和右子樹也可以是空集合。\n",
    "\n",
    "二元樹與一般樹不同之處：\n",
    "    \n",
    "    1.二元樹的節點個數可以是零，而一般樹至少要有一個根節點。\n",
    "    2.二元樹有左、右順序之分，而一般樹則沒有。\n",
    "    3.二元樹中每一節點的分支度至多為2，而一般樹則無此限制。\n",
    "    \n",
    "二元樹的特性：<br/>\n",
    "    $$1.一棵二元樹在第i階度的最多節點數為2^i-1，i>=1。$$\n",
    "    $$2.一棵階度或深度為K的二元樹，最多的節點為2^k-1,K>=1。$$\n",
    "    $$3.一棵二元樹，若n_0表示所有的樹葉節點，n_2表示分支度為2的節點，則n_0=n_2+1。$$\n",
    "    $$（假設n是所有節點個數，n_0是分支度為0的節點也就是葉節點，n_1為分支度1的節點，n_2為分支度2的節點），則n=n_0+n_1+n_2。另外假設整棵樹的分支數(edge)為B，B=n_1+2*n_2，除了根節點以外每個分支都連著1個節點，所以n=B+1(根節點)=n_1+2*n_2+1。推導出n_0+n_1+n_2=n_1+2*n_2+1，得到n_0=n_2+1$$</div>\n",
    "\n",
    "<img src=\"tree/Tree-2.jpg\" width=\"400px\"/>"
   ]
  },
  {
   "cell_type": "markdown",
   "metadata": {},
   "source": [
    "## 滿枝二元樹與完整二元樹\n",
    "<p align='left'>\n",
    "$$滿枝二元樹(fully binary tree)，階度為k的二元樹，含有2^k-1個節點數。$$\n",
    "\n",
    "$$完整二元樹(complete binary tree)，階度為k的二元樹，含有少於2^k-1個節點數，但排列順序需如同滿枝二元樹才算是完整二元樹。$$\n",
    "</p>\n",
    "\n",
    "如果有一n個節點的完整二元樹，以循序的方式編號，則樹中任何一個節點i，1<=i<=n，具有下列關係:\n",
    "    \n",
    "    1.若i=1，則i為樹根。若i不等於1，則第i個節點的父節點為小於或等於i/2的最大正整數。math.floor。\n",
    "    2.若2i<=n，則節點i的左子節點在2i。若2i>n，則沒有左子節點。\n",
    "    3.若2i+1<=n，則節點i的右子節點在2i+1。若2i+1>n，則沒有右子節點。\n",
    "   \n",
    "<img src=\"tree/Tree-3.jpg\" width=\"400px\"/>"
   ]
  },
  {
   "cell_type": "markdown",
   "metadata": {},
   "source": [
    "## 二元樹以一維陣列來儲存資料\n",
    "$$想像此二元樹為滿枝二元樹，第i階度具有 2^{i-1} 個節點，依此類推。$$\n",
    "以下是一維陣列的表示法。\n",
    "\n",
    "<img src=\"tree/Tree-4.jpg\" width=\"400px\"/>"
   ]
  },
  {
   "cell_type": "markdown",
   "metadata": {},
   "source": [
    "## 二元樹追蹤\n",
    "有三種追蹤方式：\n",
    "    1.中序追蹤(inorder traversal):先拜訪左子樹，接著樹根，最後右子樹。\n",
    "    2.前序追蹤(preorder traversal):先拜訪樹根，然後左子樹，最後右子樹。\n",
    "    3.後序追蹤(postorder traversal):先拜訪左子樹，然後右子樹，最後樹根。\n",
    "    \n",
    "<img src=\"tree/Tree-5.jpg\" width=\"400px\"/>\n",
    "\n",
    "<img src=\"tree/Tree-6.jpg\" width=\"400px\"/>"
   ]
  },
  {
   "cell_type": "markdown",
   "metadata": {},
   "source": [
    "## 二元搜尋樹\n",
    "二元搜尋樹可以是空集合，假使不是空集合，則樹中的每一節點均含有一鍵值，並具以下的特性：\n",
    "    \n",
    "    1.左子樹的所有鍵值均小於樹根的鍵值。\n",
    "    2.右子樹的所有鍵值均大於樹根的鍵值。\n",
    "    3.左子樹和右子樹亦是二元搜尋樹。\n",
    "### 二元搜尋樹的加入與刪除\n",
    "    \n",
    "    1.加入：根據鍵值的大小往右或往左加入。\n",
    "    2.刪除：\n",
    "        a.若是刪除葉節點，則直接刪除。\n",
    "        b.若不是葉節點，則必須在該刪除節點的左子樹找最大節點或右子樹找最小節點來取代被刪除的節點。"
   ]
  },
  {
   "cell_type": "markdown",
   "metadata": {},
   "source": [
    "## 二元搜尋樹的搜尋\n",
    "如何判斷鍵值K是否在二元搜尋樹中，首先將K與根節點比較，若K等於樹根，則表示找到。若K大於樹根，則往右子樹搜尋；否則，往左子樹搜尋。\n",
    "\n",
    "<font color='red'>$$一棵擁有n個節點的二元樹，其必有n+1個空白的鏈結。因為空白鏈結的計算為2*n_0+n_1=2(n_2+1)+n_1=2*n_2+n_1+2=(2*n_2+n_1+1)+1=n+1$$</font>\n",
    "\n",
    "若將這些空白鏈結以外部節點(external node)型態表示，則稱此二元樹為延伸二元樹(external binary tree)。\n",
    "\n",
    "我們定義外徑長(external path length)為所有外部節點到樹根之距離的總和。而內徑長(internal path length)為所有內部節點至樹根之距離的總和。\n",
    "\n",
    "<strong><font color='red'>外徑長(E)=內徑長(I)+2n</font></strong>\n",
    "\n",
    "數學歸納法證明:\n",
    "\n",
    "欲證明定理E=I+2N，N為二元樹內部節點。\n",
    "\n",
    "1.當N=1時，所以E=1+1=2，I=0，n=1，則E=I+2N=0+(2*1)=2成立。<br/>\n",
    "2.假設N=k-1時成立。<br/>\n",
    "3.當N=k時:<br/>\n",
    "    \n",
    "    a.假設左子樹的內部節點數為NL，內部路徑長為IL，外部路徑長為EL。假設右子樹的內部節點數為NR，內部路徑長為IR，外部路徑長為ER。\n",
    "    b.請注意此時的NL=NR=k-1，因為第2點所以成立。\n",
    "    c.整棵二元樹(除了左右子樹還要加上根節點)的內部路徑I=(IL+NL)+(IR+NR):\n",
    "        \n",
    "        i.因為把根節點加回去後，相當於左子樹每個內部節點所產生的內部路徑都要加1，也就相當於將原來左子樹的內部路徑(IL)加上左子樹的內部節點數量(NL)。同時，右子樹也是一樣IR+NR。\n",
    "    \n",
    "    d.整棵二元樹的外部路徑E=(EL+(NL+1))+(ER+(NR+1)):\n",
    "        \n",
    "        i.因為把根節點加回去後，相當於左子樹每個外部節點所產生的外部路徑都是加1，也就相當於將原來左子樹的外部路徑(EL)加上左子樹的外部節點數量(NL+1)。同時右子樹也是一樣ER+(NR+1)。\n",
    "            ◎左子樹的外部節點數量為(NL+1):左子樹的外部節點個數相當於左子樹的葉節點，又因為二元樹的特性n0(分支度為0的節點數)=n2(分支度為2的節點數)+1，而延伸二元樹的內部節點分支度皆為2，所以左子樹的外部節點數量為(NL+1)。同時可知，右子樹的外部節點數量為(NR+1)。\n",
    "        ii.因為NL及NR為k-1，由b.假設可知EL=IL+2NL,ER=IR+2NR成立。\n",
    "        iii.E=(EL+(NL+1))+(ER+(NR+1))\n",
    "             =((IL+2NL)+(NL+1))+((IR+2NR)+(NR+1))\n",
    "             =(IL+NL+IR+NR)+2NL+1+2NR+1\n",
    "             =(IL+NL+IR+NR)+2(NL+NR+1)\n",
    "             =I+2N\n",
    "             由c.可知(IL+NL+IR+NR)=I ,NL+NR+1就是整棵樹的內部節點數量，即左子樹內部節點+右子樹的內部節點+根節點。\n",
    "         iv.證明完成。  "
   ]
  },
  {
   "cell_type": "markdown",
   "metadata": {},
   "source": [
    "有一串列共10個資料如下：\n",
    "\n",
    "20,30,10,50,60,40,45,5,15,25\n",
    "\n",
    "試依序上述資料建立一棵二元搜尋樹。\n",
    "\n",
    "<img src=\"tree/Tree-11.jpg\" width=\"400px\"/>\n",
    "\n",
    "承上題，依序再加入3和13後，再刪除50的二元搜尋樹。\n",
    "\n",
    "<img src=\"tree/Tree-13.jpg\" width=\"400px\"/>"
   ]
  },
  {
   "cell_type": "markdown",
   "metadata": {},
   "source": [
    "## 轉化為二元樹\n",
    "\n",
    "### 一般樹化為二元樹\n",
    "\n",
    "    1.將同一父節點的兄弟節連在一起。\n",
    "    2.將不是最左的子節點鏈結刪除。\n",
    "    3.順時針旋轉45度。\n",
    "    \n",
    "### 樹林(forest)化為二元樹\n",
    "\n",
    "    1.先將樹林中的每棵樹化為二元樹(不旋轉45度)。\n",
    "    2.把所有二元樹的樹根連在一起。\n",
    "    3.旋轉45度。\n",
    "    \n",
    "### 唯一二元樹\n",
    "\n",
    "    我們可從中序追蹤配合前序追蹤或後序追蹤畫出所對應的二元樹。但無法只從前序追蹤與後序追蹤畫出所對應的二元樹。"
   ]
  },
  {
   "cell_type": "markdown",
   "metadata": {},
   "source": [
    "中序FDHGIBEAC\n",
    "\n",
    "前序是ABDFGHIEC\n",
    "\n",
    "請畫出二元樹。\n",
    "\n",
    "<img src=\"tree/Tree-14.jpg\" width=\"400px\"/>\n",
    "\n",
    "<img src=\"tree/Tree-15.jpg\" width=\"400px\"/>"
   ]
  },
  {
   "cell_type": "markdown",
   "metadata": {},
   "source": [
    "中序BCDAFEHIG\n",
    "\n",
    "後序DCBFIHGEA\n",
    "\n",
    "請畫出二元樹。\n",
    "\n",
    "<img src=\"tree/Tree-16.jpg\" width=\"400px\"/>\n",
    "\n",
    "<img src=\"tree/Tree-17.jpg\" width=\"400px\"/>\n",
    "\n",
    "<img src=\"tree/Tree-18.jpg\" width=\"400px\"/>"
   ]
  },
  {
   "cell_type": "markdown",
   "metadata": {},
   "source": [
    "## 利用一維陣列實作二元搜尋樹\n",
    "\n",
    "<img src=\"Tree-11.jpg\" width=\"400px\"/>"
   ]
  },
  {
   "cell_type": "code",
   "execution_count": 10,
   "metadata": {},
   "outputs": [
    {
     "name": "stdin",
     "output_type": "stream",
     "text": [
      " 20,30,10,50,60,40,45,5,15,25\n"
     ]
    },
    {
     "name": "stdout",
     "output_type": "stream",
     "text": [
      "[20, 10, 30, 5, 15, 25, 50, '', '', '', '', '', '', 40, 60, '', '', '', '', '', '', '', '', '', '', '', '', '', 45, '', '', '']\n"
     ]
    }
   ],
   "source": [
    "# 有一串列共10個資料如下：20,30,10,50,60,40,45,5,15,25\n",
    "# 請用一維陣列紀錄此二元樹。\n",
    "\n",
    "# 如果是歪斜樹的話是使用到2的10次方減1個串列元素，會非常浪費空間\n",
    "\n",
    "data=[ int(i) for i in input().split(',')] #將讀入的資料轉換為整數串列儲存。\n",
    "\n",
    "btree=[ '' for _ in range(2**5)] #先設定32個，當然若在未知的情形，通會直接考慮歪斜樹的情況，所以最大應該要2的測資長度次方-1，以本例而言就是2的10次方-1才夠，程式碼如下\n",
    "# btree=[ '' for _ in range(len(data))]\n",
    "# 紀錄目前的階層數\n",
    "level=0\n",
    "\n",
    "btree[0]=data[0]\n",
    "\n",
    "for e in data[1:]: #\n",
    "    pt=1\n",
    "    while True:\n",
    "        if btree[pt-1]=='': #如果目前的位置是空的\n",
    "            btree[pt-1]=e #則將元素加入\n",
    "            break #就可以離開迴圈\n",
    "        elif btree[pt-1]<=e: #如果該節點小於目前比對的元素，則要將該元素往右子樹比對。\n",
    "            pt=pt*2+1\n",
    "        else: #反之則是左子樹。\n",
    "            pt=pt*2\n",
    "print(btree)\n"
   ]
  },
  {
   "cell_type": "markdown",
   "metadata": {},
   "source": [
    "## 利用類別方式製作二元搜尋樹\n",
    "請自行將程式碼置入http://www.pythontutor.com/。\n",
    "\n",
    "觀察結果。"
   ]
  },
  {
   "cell_type": "code",
   "execution_count": 14,
   "metadata": {},
   "outputs": [
    {
     "name": "stdin",
     "output_type": "stream",
     "text": [
      " 20,30,10,50,60,40,45,5,15,25\n"
     ]
    },
    {
     "name": "stdout",
     "output_type": "stream",
     "text": [
      "<__main__.node object at 0x0000025C067B77C8>\n"
     ]
    }
   ],
   "source": [
    "class node:\n",
    "    data=''\n",
    "    llk=None\n",
    "    rlk=None\n",
    "    \n",
    "data=[ int(i) for i in input().split(',')] #將讀入的資料轉換為整數串列儲存。\n",
    "\n",
    "root=node()\n",
    "root.data=data[0]\n",
    "print(root)\n",
    "\n",
    "for e in data[1:]:\n",
    "    pt=root\n",
    "    while True:\n",
    "        if pt.data>=e:\n",
    "            if pt.llk==None:\n",
    "                newnode=node()\n",
    "                newnode.data=e\n",
    "                pt.llk=newnode\n",
    "                break\n",
    "            else:\n",
    "                pt=pt.llk\n",
    "        else:\n",
    "            if pt.rlk==None:\n",
    "                newnode=node()\n",
    "                newnode.data=e\n",
    "                pt.rlk=newnode\n",
    "                break\n",
    "            else:\n",
    "                pt=pt.rlk"
   ]
  },
  {
   "cell_type": "code",
   "execution_count": null,
   "metadata": {},
   "outputs": [],
   "source": []
  }
 ],
 "metadata": {
  "kernelspec": {
   "display_name": "Python 3",
   "language": "python",
   "name": "python3"
  },
  "language_info": {
   "codemirror_mode": {
    "name": "ipython",
    "version": 3
   },
   "file_extension": ".py",
   "mimetype": "text/x-python",
   "name": "python",
   "nbconvert_exporter": "python",
   "pygments_lexer": "ipython3",
   "version": "3.7.4"
  }
 },
 "nbformat": 4,
 "nbformat_minor": 4
}
