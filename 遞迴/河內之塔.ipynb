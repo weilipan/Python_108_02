{
 "cells": [
  {
   "cell_type": "markdown",
   "metadata": {},
   "source": [
    "# 河內之塔\n",
    "\n",
    "十九世紀在歐洲有個稱為河內塔的遊戲，有64個大小不同的金盤子，三個鑲鑽的柱子分別為A、B、C，今想把64個金盤子，借助B柱子，從A柱子，移至C柱子，遊戲規則為：\n",
    "\n",
    "    1.每次只能搬移一個盤子。\n",
    "    2.盤子有大小之分，而且大盤子在下，小盤子在上。\n",
    "    \n",
    "# 河內塔演算法\n",
    "\n",
    "假設有n個金盤子(1,2,3,...,n-1,n), 數字愈大表示重量愈重，其搬移的演算法如下：\n",
    "\n",
    "    1.假使n=1，則將第1個盤子由A搬動至C。因為當盤子只剩一時，理所當然要將最後一個盤子由來源柱移到目標柱，完成搬移。\n",
    "    2.其他情形下：\n",
    "        a.則將第n-1個盤子由A搬動至B\n",
    "        b.搬動第n個盤子由A搬動至C\n",
    "        c.則將第n-1個盤子由B搬動至C\n",
    "        \n",
    "實作看看吧。"
   ]
  },
  {
   "cell_type": "code",
   "execution_count": 1,
   "metadata": {},
   "outputs": [
    {
     "name": "stdout",
     "output_type": "stream",
     "text": [
      "將第1個盤子由柱A移動到柱B\n",
      "將第2個盤子由柱A移動到柱C\n",
      "將第1個盤子由柱B移動到柱C\n",
      "將第3個盤子由柱A移動到柱B\n",
      "將第1個盤子由柱C移動到柱A\n",
      "將第2個盤子由柱C移動到柱B\n",
      "將第1個盤子由柱A移動到柱B\n",
      "將第4個盤子由柱A移動到柱C\n",
      "將第1個盤子由柱B移動到柱C\n",
      "將第2個盤子由柱B移動到柱A\n",
      "將第1個盤子由柱C移動到柱A\n",
      "將第3個盤子由柱B移動到柱C\n",
      "將第1個盤子由柱A移動到柱B\n",
      "將第2個盤子由柱A移動到柱C\n",
      "將第1個盤子由柱B移動到柱C\n"
     ]
    }
   ],
   "source": [
    "def hanni(n,p1,p2,p3):\n",
    "    '''\n",
    "    請自行完成本段程式碼\n",
    "    '''\n",
    "    pass\n",
    "\n",
    "hanni(4,'A','B','C')"
   ]
  },
  {
   "cell_type": "code",
   "execution_count": null,
   "metadata": {},
   "outputs": [],
   "source": []
  }
 ],
 "metadata": {
  "kernelspec": {
   "display_name": "Python 3",
   "language": "python",
   "name": "python3"
  },
  "language_info": {
   "codemirror_mode": {
    "name": "ipython",
    "version": 3
   },
   "file_extension": ".py",
   "mimetype": "text/x-python",
   "name": "python",
   "nbconvert_exporter": "python",
   "pygments_lexer": "ipython3",
   "version": "3.7.4"
  }
 },
 "nbformat": 4,
 "nbformat_minor": 4
}
