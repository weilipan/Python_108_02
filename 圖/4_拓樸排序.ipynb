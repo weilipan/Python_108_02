{
 "cells": [
  {
   "cell_type": "markdown",
   "metadata": {},
   "source": [
    "# 拓樸排序 Topological sort\n",
    "    1.AOV network(Activity-on-Vertex network):一有方向圖形中，每一頂點代表工作(task)或活動(activity)，而邊表示工作之間優先順序(precedence relations)，所以邊(Vi,Vj)表示Vi的工作必先處理完後，才能去處理Vj的工作。\n",
    "    2.在一方向圖形G中，有一邊為<Vi,Vj>，我們稱Vi是Vj的立即前行者(immediate predecessor)與立即後續繼者(immediate successor)。\n",
    "    3.AOV network中，若頂點Vi到頂點Vj存在一條路徑，則稱Vi是Vj的前行者，Vj是Vi的後繼者。\n",
    "    \n",
    "## 在AOV network進行拓樸排序\n",
    "    1.在AOV network中任意挑選一個沒有前行者的頂點。\n",
    "    2.輸出此頂點，並將此頂點所連接的邊全部刪除。\n",
    "    3.重覆步驟1和步驟2，直到全部的頂點皆輸出為止。"
   ]
  },
  {
   "cell_type": "markdown",
   "metadata": {},
   "source": [
    "<img src=\"TopologicalSort/TopologicalSort-2.jpg\" width=\"600px\"/>\n",
    "<img src=\"TopologicalSort/TopologicalSort-3.jpg\" width=\"600px\"/>"
   ]
  }
 ],
 "metadata": {
  "kernelspec": {
   "display_name": "Python 3",
   "language": "python",
   "name": "python3"
  },
  "language_info": {
   "codemirror_mode": {
    "name": "ipython",
    "version": 3
   },
   "file_extension": ".py",
   "mimetype": "text/x-python",
   "name": "python",
   "nbconvert_exporter": "python",
   "pygments_lexer": "ipython3",
   "version": "3.7.4"
  }
 },
 "nbformat": 4,
 "nbformat_minor": 4
}
