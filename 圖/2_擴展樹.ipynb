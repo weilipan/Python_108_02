{
 "cells": [
  {
   "cell_type": "markdown",
   "metadata": {},
   "source": [
    "# 擴展樹\n",
    "擴展樹是以最少的邊數連接圖形中的所有頂點。\n",
    "\n",
    "若G=(V,E)是一圖形，而S=(V,T)是G的擴展樹。T是追蹤時所拜訪過的邊，而以K表示追蹤後，未被拜訪的邊。此時擴展樹有以下幾個特性：\n",
    "\n",
    "    1.E=T+K.  \n",
    "    2.V中的任何兩個頂點V1和V2，在S中有唯一的邊。\n",
    "    3.加入K中任何一個邊於S中，會造成循環。\n",
    "    \n",
    "<img src=\"SpanningTree/Spanning Tree-02.jpg\" width=\"600px\"/>\n",
    "    \n",
    "## 比重圖形 Weight Graph\n",
    "圖形中每邊加上一些數值，此數值稱為比重(weight)，而稱此圖形為比重圖形。\n",
    "\n",
    "## 網路 Network\n",
    "若比重圖形中的比重代表的是距離(distance)或成本(cost)，則此圖形可稱為網路。\n",
    "\n",
    "## 最小成本擴張樹 Minimum Cost Spanning Tree\n",
    "網路中有一擴張樹所需的成本為最小時，則稱為最小成本擴張樹。\n",
    "\n",
    "<img src=\"SpanningTree/Spanning Tree-03.jpg\" width=\"600px\"/>"
   ]
  },
  {
   "cell_type": "markdown",
   "metadata": {},
   "source": [
    "## 最小成本擴張樹演算法\n",
    "### Prims 演算法\n",
    "有一網路G=(V,E)，其中V={1,2,3,...,n}，起初設定U={1},U及V是兩個頂點的集合，然後從V-U集合中找一頂點X，若能與U集合中的某頂點形成最小的邊，則將X加入U集合，繼續此步驟直U集合=V集合相等為止。\n",
    "\n",
    "<img src=\"SpanningTree/Spanning Tree-04.jpg\" width=\"600px\"/>\n",
    "<img src=\"SpanningTree/Spanning Tree-05.jpg\" width=\"600px\"/>\n",
    "<img src=\"SpanningTree/Spanning Tree-06.jpg\" width=\"600px\"/>\n",
    "<img src=\"SpanningTree/Spanning Tree-07.jpg\" width=\"600px\"/>\n",
    "<img src=\"SpanningTree/Spanning Tree-08.jpg\" width=\"600px\"/>\n",
    "<img src=\"SpanningTree/Spanning Tree-09.jpg\" width=\"600px\"/>\n",
    "\n",
    "### Kruskal's 演算法\n",
    "有一網路G=(V,E)，其中V=P{1,2,3,...,n}，E中每邊皆有一成本，T=(V,0)表示開始時T沒有邊。\n",
    "\n",
    "從E中找出具有最小成本的邊，若加入此邊，T不會形成循環，則將此邊從E中刪除，直到T含有n-1個邊為止。\n",
    "\n",
    "<img src=\"SpanningTree/Spanning Tree-10.jpg\" width=\"600px\"/>\n",
    "<img src=\"SpanningTree/Spanning Tree-11.jpg\" width=\"600px\"/>\n",
    "<img src=\"SpanningTree/Spanning Tree-12.jpg\" width=\"600px\"/>\n",
    "<img src=\"SpanningTree/Spanning Tree-13.jpg\" width=\"600px\"/>\n",
    "<img src=\"SpanningTree/Spanning Tree-14.jpg\" width=\"600px\"/>\n"
   ]
  },
  {
   "cell_type": "code",
   "execution_count": null,
   "metadata": {},
   "outputs": [],
   "source": []
  }
 ],
 "metadata": {
  "kernelspec": {
   "display_name": "Python 3",
   "language": "python",
   "name": "python3"
  },
  "language_info": {
   "codemirror_mode": {
    "name": "ipython",
    "version": 3
   },
   "file_extension": ".py",
   "mimetype": "text/x-python",
   "name": "python",
   "nbconvert_exporter": "python",
   "pygments_lexer": "ipython3",
   "version": "3.7.4"
  }
 },
 "nbformat": 4,
 "nbformat_minor": 4
}
