{
 "cells": [
  {
   "cell_type": "markdown",
   "metadata": {},
   "source": [
    "# 臨界路徑\n",
    "若AOV(Activity-on-Vertex) network中的邊表示某項活動(activity)，而頂點表示事件(events)，則稱此網路為AOE(Activity-on-Edge) network。\n",
    "\n",
    "AOE network已被應用在計畫績效評估(performance evaluation)，評估範圍包括：\n",
    "    \n",
    "    1.完成整個計畫所需的最短時間。又稱為臨界路徑(critical path)。\n",
    "    2.加速哪些活動可直接縮短完成計畫所需的最短時間。這些活動則稱為臨界活動。\n",
    "    \n",
    "AOE network上所有的活動皆有兩種時間：\n",
    "    \n",
    "    1.最早時間(early start time)表示該活動最早開始的時間。\n",
    "    2.最晚時間(lastest start time)表示該活動最晚開始的時間。\n",
    "    3.LS(i)-ES(i)=3，表示i活動可以延遲3個時間單位。\n",
    "    4.若LS(i)=ES(i)時，表示i活動是臨界的活動(critical activity)。\n",
    "    \n",
    "求AOE network臨界路徑，首先要計算事件最早發生的時間ES(j)及事件最晚發生的時間LS(j)，其中：\n",
    "    \n",
    "    ES(j)=max{ES(i)+<i,j>時間}(i屬於p(j))  p(j)是所有與j相鄰頂點所成的集合。\n",
    "    \n",
    "假設利用拓樸排序，每當輸出一個事件時，就修正此事件到各事件之最早的時間。\n",
    "若拓樸排序輸出是事件j，而事件j指向事件k，此時的\n",
    "\n",
    "    ES(k)=max{ES(k),ES(j)+<j,k>時間}\n"
   ]
  },
  {
   "cell_type": "markdown",
   "metadata": {},
   "source": [
    "## 臨界路徑滿足要件\n",
    "    1.ESi=LSi\n",
    "    2.ESj=LSj\n",
    "    3.ESj-ESi=LSj-LSi=aij"
   ]
  },
  {
   "cell_type": "markdown",
   "metadata": {},
   "source": [
    "## 相關整理\n",
    "\n",
    "假設ESi是i事件最早開始的時間(Early start time)，i=1的ES1=0，而Aij為事件i到事件j所需花費的時間。\n",
    "\n",
    "則對所有(i,j)活動而言 ESi=max{ESi+aij}\n",
    "\n",
    "而最晚開始的時間(Lastest start time)以LS表示之，則對所有(i,j)活動而言 LSi=min{LSj-aij}。"
   ]
  },
  {
   "cell_type": "markdown",
   "metadata": {},
   "source": [
    "<img src=\"CriticalPath/CriticalPath-02.jpg\" width=\"600px\"/>\n",
    "<img src=\"CriticalPath/CriticalPath-03.jpg\" width=\"600px\"/>\n",
    "<img src=\"CriticalPath/CriticalPath-04.jpg\" width=\"600px\"/>\n",
    "<img src=\"CriticalPath/CriticalPath-05.jpg\" width=\"600px\"/>\n",
    "<img src=\"CriticalPath/CriticalPath-06.jpg\" width=\"600px\"/>\n",
    "<img src=\"CriticalPath/CriticalPath-07.jpg\" width=\"600px\"/>\n",
    "<img src=\"CriticalPath/CriticalPath-08.jpg\" width=\"600px\"/>\n",
    "<img src=\"CriticalPath/CriticalPath-09.jpg\" width=\"600px\"/>\n",
    "<img src=\"CriticalPath/CriticalPath-10.jpg\" width=\"600px\"/>\n",
    "<img src=\"CriticalPath/CriticalPath-11.jpg\" width=\"600px\"/>\n",
    "<img src=\"CriticalPath/CriticalPath-12.jpg\" width=\"600px\"/>\n",
    "<img src=\"CriticalPath/CriticalPath-13.jpg\" width=\"600px\"/>\n",
    "<img src=\"CriticalPath/CriticalPath-14.jpg\" width=\"600px\"/>\n",
    "<img src=\"CriticalPath/CriticalPath-15.jpg\" width=\"600px\"/>\n",
    "<img src=\"CriticalPath/CriticalPath-16.jpg\" width=\"600px\"/>\n",
    "<img src=\"CriticalPath/CriticalPath-17.jpg\" width=\"600px\"/>\n",
    "<img src=\"CriticalPath/CriticalPath-18.jpg\" width=\"600px\"/>"
   ]
  },
  {
   "cell_type": "code",
   "execution_count": null,
   "metadata": {},
   "outputs": [],
   "source": []
  }
 ],
 "metadata": {
  "kernelspec": {
   "display_name": "Python 3",
   "language": "python",
   "name": "python3"
  },
  "language_info": {
   "codemirror_mode": {
    "name": "ipython",
    "version": 3
   },
   "file_extension": ".py",
   "mimetype": "text/x-python",
   "name": "python",
   "nbconvert_exporter": "python",
   "pygments_lexer": "ipython3",
   "version": "3.7.4"
  }
 },
 "nbformat": 4,
 "nbformat_minor": 4
}
