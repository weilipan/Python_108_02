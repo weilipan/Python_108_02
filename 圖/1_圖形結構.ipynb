{
 "cells": [
  {
   "cell_type": "markdown",
   "metadata": {},
   "source": [
    "# 圖形結構\n",
    "<img src=\"graph/Graph-02.jpg\" width=\"600px\"/>\n",
    "\n",
    "## 相關名詞介紹：\n",
    "\n",
    "    1.頂點(vertex):類似樹狀結構的節點。\n",
    "    2.邊(edge):每個頂點之間的連線。\n",
    "    3.無方向圖形(undirected graph):邊上無方向性稱之。\n",
    "    4.有方向圖形(directed graph):邊上有方向性稱之。\n",
    "    5.圖形(graph):是由頂點和所有邊的組合而成。以G=(V,E)表示。無方向圖中(V1,V2)和(V2,V1)代表相同的邊。但在有方向圖中，<V2,V1>,<V1,V2>是不一樣的邊。在有方向圖形中，<V1,V2>，V1表示邊的前端(head)，而V2代表邊的尾端(tail)。\n",
    "    6.有方向圖形與無方向圖形邊的表示方法不同。有方向圖形一般以digraph表示，而無方向圖形則以graph表示。\n",
    "    \n",
    "<img src=\"graph/Graph-03.jpg\" width=\"600px\"/>\n",
    "<img src=\"graph/Graph-04.jpg\" width=\"600px\"/>\n",
    "<img src=\"graph/Graph-05.jpg\" width=\"600px\"/>\n",
    "<img src=\"graph/Graph-06.jpg\" width=\"600px\"/>\n",
    "<img src=\"graph/Graph-07.jpg\" width=\"600px\"/>"
   ]
  },
  {
   "cell_type": "markdown",
   "metadata": {},
   "source": [
    "## 專有名詞介紹：\n",
    "\n",
    "    1.路徑(path):路徑是由一個以上的邊所組成。在圖形G中，從頂點Va到Vb的路徑，是指一系列的頂點Va,Vi1,Vi2,Vi3,...,Vin,Vb，其中(Va,Vi1),(Vi1,Vi2),...,(Vin,Vb)是E(G)上的邊。假若G'是有方向圖形，則<Va,Vi1>,<Vi1,Vi2>,...,<Vin,Vb>是E(G')上的邊。\n",
    "    2.長度(length):一條路徑上的長度是指該路徑上所有邊的數目。\n",
    "    3.簡單路徑(simple path):除了頭尾頂點上之外，其餘的頂點皆在不相同的路徑上。\n",
    "    4.循環(cycle):在一條簡單路徑上，若頭尾頂點皆相同者稱之。\n",
    "    5.連通(connected):圖形中若存在一路徑從V1到V2，則稱V1與V2連通的。如果圖形中每對相異頂點Vi與Vj的路徑，則稱該圖形是連通。\n",
    "    6.連通單元(connected component)：也稱為單元(component)，是指該圖形中最大的連通子圖(maximal connected subgraph)。\n",
    "    7.緊密連通(strongly connected):<strong>方向圖</strong>中，如果每對相異頂點Vi,Vj皆存在從Vi到Vj及Vj到Vi的有向路徑，則稱此圖形為緊密連通。\n",
    "    8.緊密連通單元(strongly connected component):是指一個緊密連通最大子圖。\n",
    "    9.分支度(degree):附在頂點的邊數。若為有向圖，則分支度為內分支度和外分支度之和。\n",
    "    10.內分支度(in-degree):頂點V的內分支度是指以V為終點的邊數。\n",
    "    11.外分支度(out-degree):頂點V的外分支度是以V為起點的邊數。\n",
    "<img src=\"graph/Graph-08.jpg\" width=\"600px\"/>"
   ]
  },
  {
   "cell_type": "markdown",
   "metadata": {},
   "source": [
    "## 圖形可使用的資料結構：\n",
    "\n",
    "    1.相鄰矩陣(adjacency matrix):\n",
    "        (1)利用n*n的二維陣列來表示各頂點之間是否有連通。\n",
    "        (2)無向圖:\n",
    "            a.二維陣列會呈現上三角和下三角對稱。\n",
    "            b.對角線為0。\n",
    "            c.各頂點的分支度則可以計算行或列總和。\n",
    "            d.儲存空間為n*(n-1)/2。\n",
    "        (3)有向圖:\n",
    "            a.各頂點的外分支度為橫列row的和。\n",
    "            b.各頂點的內分支度為直欄col的和。\n",
    "            \n",
    "    2.相鄰串列(adjacency list):\n",
    "        (1)圖形中各頂點皆形成串列的首節點，之後連接的各節點表示有與首節點有相連的各頂點。\n",
    "        (2)無向圖中，每個串列去除首節點後剩下的節點個數就是其分支度。\n",
    "        (3)有向圖中，每個串列去除首節點後剩下的節點個數就是其外分支度。\n",
    "        (4)有向圖中，將相鄰串列轉化為矩陣型態，得出轉置矩陣後再轉化回相鄰串列，這時每個串列去除首節點後剩下的節點個數就是其內分支度。\n",
    "<img src=\"graph/Graph-09.jpg\" width=\"600px\"/>\n",
    "<img src=\"graph/Graph-10.jpg\" width=\"600px\"/>\n",
    "<img src=\"graph/Graph-11.jpg\" width=\"600px\"/>\n",
    "<img src=\"graph/Graph-12.jpg\" width=\"600px\"/>\n",
    "<img src=\"graph/Graph-13.jpg\" width=\"600px\"/>"
   ]
  },
  {
   "cell_type": "markdown",
   "metadata": {},
   "source": [
    "## 圖形追蹤：\n",
    "圖形追蹤是從圖形某一頂點開始，去拜訪其他頂點。可用於：\n",
    "    \n",
    "    1.判斷圖形是否連通。\n",
    "    2.找出圖形的連通單元。\n",
    "    3.畫出圖形的擴展樹(spanning tree)。\n",
    "    \n",
    "追蹤的方法有兩種：\n",
    "\n",
    "    1.深度優先搜尋(Depth First Search):對應使用的資料結構為堆疊(Stack)。\n",
    "    2.廣度優先搜尋(Breath First Search):對應使用的資料結構為佇列(Queue)。\n",
    "\n",
    "<img src=\"graph/Graph-14.jpg\" width=\"600px\"/>\n",
    "<img src=\"graph/Graph-15.jpg\" width=\"600px\"/>\n",
    "<img src=\"graph/Graph-16.jpg\" width=\"600px\"/>\n",
    "<img src=\"graph/Graph-17.jpg\" width=\"600px\"/>"
   ]
  },
  {
   "cell_type": "markdown",
   "metadata": {},
   "source": [
    "若圖形G是一n個頂點的圖形，G=(V,E)，並具備以下條件，則稱自由樹(free tree)。\n",
    "\n",
    "    1.G有n-1個邊，且沒有循環。\n",
    "    2.G是連通的。\n",
    "    \n",
    "自由樹加上任一邊，則會形成循環。\n",
    "\n",
    "有循環之圖形稱為<strong>cyclic</strong>，沒有循環則稱為<strong>acyclic</strong>。\n",
    "\n",
    "<img src=\"graph/Graph-18.jpg\" width=\"600px\"/>"
   ]
  },
  {
   "cell_type": "code",
   "execution_count": null,
   "metadata": {},
   "outputs": [],
   "source": []
  }
 ],
 "metadata": {
  "kernelspec": {
   "display_name": "Python 3",
   "language": "python",
   "name": "python3"
  },
  "language_info": {
   "codemirror_mode": {
    "name": "ipython",
    "version": 3
   },
   "file_extension": ".py",
   "mimetype": "text/x-python",
   "name": "python",
   "nbconvert_exporter": "python",
   "pygments_lexer": "ipython3",
   "version": "3.7.4"
  }
 },
 "nbformat": 4,
 "nbformat_minor": 4
}
