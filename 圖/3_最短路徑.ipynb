{
 "cells": [
  {
   "cell_type": "markdown",
   "metadata": {},
   "source": [
    "# 最短路徑\n",
    "網路最基本的應用問題是:如何求出從某一起始點Vs到某一終止點Vt的最短路徑(shortest path)\n",
    "\n",
    "## Dijkstra's algorithm\n",
    "    ◎step1:\n",
    "        1.S={F} F是集合中的某一頂點，確定之後才能決定串列D。S是一頂點的集合。\n",
    "        2.D[I]=A[F,I](I=1,N) D:N個元素串列，用來儲存F到另一頂點的距離。A[F,I]表示從F點到I點的距離。\n",
    "        3.V={1,2,...,N} V是網路中所有頂點的集合。\n",
    "\n",
    "    ◎step2:\n",
    "        從V-S集合找一頂點t，使得D[t]為最小值，並將t放入S集合，直到V-S是空集合為止。\n",
    "    ◎step3:\n",
    "        根據下面的公式，調整串列D中的值。\n",
    "        D[I]=min(D[I],D[t]+A[t,I])((I,t)屬於E)\n",
    "        其中I是指t的相鄰各頂點。\n",
    "    ◎step4:\n",
    "        回到step2執行。\n",
    "        "
   ]
  },
  {
   "cell_type": "markdown",
   "metadata": {},
   "source": [
    "<img src=\"ShortestPath/ShortestPath-2.jpg\" width=\"600px\"/>\n",
    "<img src=\"ShortestPath/ShortestPath-3.jpg\" width=\"600px\"/>\n",
    "<img src=\"ShortestPath/ShortestPath-4.jpg\" width=\"600px\"/>\n",
    "<img src=\"ShortestPath/ShortestPath-5.jpg\" width=\"600px\"/>\n",
    "<img src=\"ShortestPath/ShortestPath-6.jpg\" width=\"600px\"/>\n",
    "<img src=\"ShortestPath/ShortestPath-7.jpg\" width=\"600px\"/>\n",
    "<img src=\"ShortestPath/ShortestPath-8.jpg\" width=\"600px\"/>"
   ]
  },
  {
   "cell_type": "code",
   "execution_count": null,
   "metadata": {},
   "outputs": [],
   "source": []
  }
 ],
 "metadata": {
  "kernelspec": {
   "display_name": "Python 3",
   "language": "python",
   "name": "python3"
  },
  "language_info": {
   "codemirror_mode": {
    "name": "ipython",
    "version": 3
   },
   "file_extension": ".py",
   "mimetype": "text/x-python",
   "name": "python",
   "nbconvert_exporter": "python",
   "pygments_lexer": "ipython3",
   "version": "3.7.4"
  }
 },
 "nbformat": 4,
 "nbformat_minor": 4
}
