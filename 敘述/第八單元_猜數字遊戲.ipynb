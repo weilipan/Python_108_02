{
 "cells": [
  {
   "cell_type": "markdown",
   "metadata": {},
   "source": [
    "# 終極密碼戰 Guessing Game Challenge\n",
    "\n",
    "使用`while`迴圈來處理猜數字遊戲：\n",
    "\n",
    "挑戰如下：\n",
    "\n",
    "寫一個遊戲程式隨機產生一組終極密碼（範圍為1~100之間），該玩家來猜猜看，規則如下：\n",
    "\n",
    "1. 如果玩家猜測的數字超出1~100的範圍，則顯示\"超過猜測邊界\" 。\n",
    "\n",
    "2.玩家的第一回合，如果玩家的猜測：\n",
    "\n",
    "    1）與答案落差在10以內，則顯示\"目標在落入可能範圍之中\"\n",
    "    2）與密碼落差在10以外，則顯示\"仍需要持續尋找目標中\"\n",
    "\n",
    "3. 其餘回合，如果玩家猜測：\n",
    "\n",
    "    1）如果比前次猜測還接近的話，則顯示\"持續接近中\"\n",
    "    \n",
    "    2）如果比前次猜測還遠離的話，則顯示\"愈來愈遠囉\"\n",
    "\n",
    "4.當玩家終於猜對時，請顯示\"恭喜你答對了!!\"同時顯示出總共猜了幾次。 \n",
    "\n",
    "你可以自己嘗試也可以照著下面的步驟來思考完成。\n",
    "\n",
    "祝您好運!\n"
   ]
  },
  {
   "cell_type": "markdown",
   "metadata": {},
   "source": [
    "#### 首先，使用隨機模組和隨機選擇一個1~100之間數字，將它指定給一個變數儲存起來。\n",
    "\n",
    "Note: `random.randint(a,b)` returns a random integer in range `[a, b]`, including both end points."
   ]
  },
  {
   "cell_type": "code",
   "execution_count": null,
   "metadata": {},
   "outputs": [],
   "source": [
    "import random #匯入random模組"
   ]
  },
  {
   "cell_type": "markdown",
   "metadata": {},
   "source": [
    "#### 下一步，印出遊戲規則，解釋該如何玩這個遊戲：\n",
    "\n",
    "1.玩家的第一回合，如果玩家的猜測：\n",
    "\n",
    "    1）與答案落差在10以內，則顯示\"目標在落入可能範圍之中\"\n",
    "    2）與密碼落差在10以外，則顯示\"仍需要持續尋找目標中\"\n",
    "\n",
    "2. 其餘回合，如果玩家猜測：\n",
    "\n",
    "    1）如果比前次猜測還接近的話，則顯示\"持續接近中\"\n",
    "    \n",
    "    2）如果比前次猜測還遠離的話，則顯示\"愈來愈遠囉\""
   ]
  },
  {
   "cell_type": "code",
   "execution_count": null,
   "metadata": {},
   "outputs": [],
   "source": []
  },
  {
   "cell_type": "markdown",
   "metadata": {},
   "source": [
    "#### 建立一個紀錄猜測結果的串列 Create a list to store guesses\n",
    "\n",
    "提示：零是一個很好用的數字，它可以用來代表`'False'` 。"
   ]
  },
  {
   "cell_type": "code",
   "execution_count": null,
   "metadata": {},
   "outputs": [],
   "source": []
  },
  {
   "cell_type": "markdown",
   "metadata": {},
   "source": [
    "#### 利用 `while` 迴圈來測試猜測過程，同時紀錄猜了幾次，當猜對之後則結束迴圈。"
   ]
  },
  {
   "cell_type": "code",
   "execution_count": null,
   "metadata": {},
   "outputs": [],
   "source": [
    "while True:\n",
    "    \n",
    "    pass"
   ]
  },
  {
   "cell_type": "markdown",
   "metadata": {},
   "source": [
    "#### 如果玩家猜對則結束迴圈，其他情況下，請提示玩家是愈近了還是愈遠了，持續詢問猜測的數字直到猜對為止。\n",
    "\n",
    "提示:\n",
    "* 可以先在紙上寫出可能的組合！\n",
    "* 可以使用 `abs()` 函式來比較兩個正整數的距離。\n",
    "* 如果你有將所有的猜測過程利用list的append()方法存入，則前次的猜測結果可以用 `guesses[-2]` 來取得。"
   ]
  },
  {
   "cell_type": "code",
   "execution_count": null,
   "metadata": {},
   "outputs": [],
   "source": [
    "while True:\n",
    "\n",
    "    # we can copy the code from above to take an input\n",
    "\n",
    "    pass"
   ]
  },
  {
   "cell_type": "markdown",
   "metadata": {},
   "source": [
    "### Good Job!"
   ]
  }
 ],
 "metadata": {
  "kernelspec": {
   "display_name": "Python 3",
   "language": "python",
   "name": "python3"
  },
  "language_info": {
   "codemirror_mode": {
    "name": "ipython",
    "version": 3
   },
   "file_extension": ".py",
   "mimetype": "text/x-python",
   "name": "python",
   "nbconvert_exporter": "python",
   "pygments_lexer": "ipython3",
   "version": "3.7.4"
  }
 },
 "nbformat": 4,
 "nbformat_minor": 4
}
