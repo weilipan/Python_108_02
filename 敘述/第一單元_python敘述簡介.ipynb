{
 "cells": [
  {
   "cell_type": "markdown",
   "metadata": {
    "slideshow": {
     "slide_type": "slide"
    }
   },
   "source": [
    "# Python敘述簡介 Introduction to Python Statements\n",
    "\n",
    "本單元將快速地介紹與python與C++等其他主流程式語言的差異。\n",
    "\n",
    "    1.) 如果你已經有其他程式語言的底子，簡介可以加速您了解python.\n",
    "    2.) 學習python敘述也有利於未來學習其他程式語言。"
   ]
  },
  {
   "cell_type": "markdown",
   "metadata": {
    "slideshow": {
     "slide_type": "slide"
    }
   },
   "source": [
    "## Python vs Other Languages\n",
    "\n",
    "比較一下兩種程式語言的敘述。\n",
    "\n",
    "**Version 1 (Other Languages)**\n",
    "\n",
    "    if (a>b){\n",
    "        a = 2;\n",
    "        b = 4;\n",
    "    }\n",
    "                        \n",
    "**Version 2 (Python)**   \n",
    "\n",
    "    if a>b:\n",
    "        a = 2\n",
    "        b = 4"
   ]
  },
  {
   "cell_type": "markdown",
   "metadata": {},
   "source": [
    "你會發現python比較易讀而且乾淨。\n",
    "\n",
    "主要的差異如下：\n",
    "\n",
    "Python透過冒號 *:* 和空白* * 來擺脫 *()* 和 *{}* 的糾纏。\n",
    "\n",
    "空白用來處理縮排，造成明確的程式區塊，而易於閱讀。\n",
    "\n",
    "另一個主要不同之處為python直接用換行當成每一行敘述的結束，不使用分號（少了忘記打分號的風險）。\n",
    "\n",
    "## 縮排Indentation\n",
    "\n",
    "下面是虛擬碼 pseudo-code 用來顯示python使用空白和縮排與其他程式語言的差異。\n",
    "\n",
    "**Other Languages**\n",
    "\n",
    "    if (x)\n",
    "        if(y)\n",
    "            code-statement;\n",
    "    else\n",
    "        another-code-statement;\n",
    "        \n",
    "**Python**\n",
    "    \n",
    "    if x:\n",
    "        if y:\n",
    "            code-statement\n",
    "    else:\n",
    "        another-code-statement"
   ]
  }
 ],
 "metadata": {
  "kernelspec": {
   "display_name": "Python 3",
   "language": "python",
   "name": "python3"
  },
  "language_info": {
   "codemirror_mode": {
    "name": "ipython",
    "version": 3
   },
   "file_extension": ".py",
   "mimetype": "text/x-python",
   "name": "python",
   "nbconvert_exporter": "python",
   "pygments_lexer": "ipython3",
   "version": "3.7.4"
  }
 },
 "nbformat": 4,
 "nbformat_minor": 4
}
