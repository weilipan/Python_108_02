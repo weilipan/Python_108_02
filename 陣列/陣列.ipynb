{
 "cells": [
  {
   "cell_type": "markdown",
   "metadata": {},
   "source": [
    "# **陣列**"
   ]
  },
  {
   "cell_type": "markdown",
   "metadata": {},
   "source": [
    "## 1.認識陣列資料結構\n",
    "\n",
    "用來處理大量相同資料型態的資料時，使用陣列會方便處理。\n",
    "\n",
    "我們使用串列list來模擬陣列型態\n",
    "\n",
    "## 2.一維陣列\n",
    "\n",
    "一維陣列的初始化能夠使用以下的語法進行。以長度為5為例子。\n",
    "\n",
    "<code> a=[0 for i in range(5)]</code>"
   ]
  },
  {
   "cell_type": "code",
   "execution_count": 5,
   "metadata": {},
   "outputs": [],
   "source": [
    "a=[0 for i in range(5)] #初始化一個長度為5，元素皆為0的一維陣列"
   ]
  },
  {
   "cell_type": "code",
   "execution_count": 3,
   "metadata": {},
   "outputs": [
    {
     "data": {
      "text/plain": [
       "[0, 0, 0, 0, 0]"
      ]
     },
     "execution_count": 3,
     "metadata": {},
     "output_type": "execute_result"
    }
   ],
   "source": [
    "a"
   ]
  },
  {
   "cell_type": "markdown",
   "metadata": {},
   "source": [
    "還記得我們可以透過索引值來存取串列當中所存放的元素嗎？\n",
    "\n",
    "以a為例，它的5個元素分別為<code>a[0],a[1],a[2],a[3],a[4]</code>\n",
    "\n"
   ]
  },
  {
   "cell_type": "code",
   "execution_count": 4,
   "metadata": {},
   "outputs": [
    {
     "data": {
      "text/plain": [
       "0"
      ]
     },
     "execution_count": 4,
     "metadata": {},
     "output_type": "execute_result"
    }
   ],
   "source": [
    "a[0]"
   ]
  },
  {
   "cell_type": "code",
   "execution_count": 6,
   "metadata": {},
   "outputs": [
    {
     "data": {
      "text/plain": [
       "0"
      ]
     },
     "execution_count": 6,
     "metadata": {},
     "output_type": "execute_result"
    }
   ],
   "source": [
    "a[4]"
   ]
  },
  {
   "cell_type": "code",
   "execution_count": 10,
   "metadata": {},
   "outputs": [
    {
     "ename": "IndexError",
     "evalue": "list index out of range",
     "output_type": "error",
     "traceback": [
      "\u001b[1;31m---------------------------------------------------------------------------\u001b[0m",
      "\u001b[1;31mIndexError\u001b[0m                                Traceback (most recent call last)",
      "\u001b[1;32m<ipython-input-10-68b8ac22f489>\u001b[0m in \u001b[0;36m<module>\u001b[1;34m\u001b[0m\n\u001b[1;32m----> 1\u001b[1;33m \u001b[0ma\u001b[0m\u001b[1;33m[\u001b[0m\u001b[1;36m5\u001b[0m\u001b[1;33m]\u001b[0m \u001b[1;31m#會出現錯誤，因為索引值超出範圍，出現IndexError: list index out of range\u001b[0m\u001b[1;33m\u001b[0m\u001b[1;33m\u001b[0m\u001b[0m\n\u001b[0m",
      "\u001b[1;31mIndexError\u001b[0m: list index out of range"
     ]
    }
   ],
   "source": [
    "a[5] #會出現錯誤，因為索引值超出範圍，出現IndexError: list index out of range"
   ]
  },
  {
   "cell_type": "code",
   "execution_count": 11,
   "metadata": {},
   "outputs": [],
   "source": [
    "#其他的初始化範例\n",
    "b=[i for i in range(5)]"
   ]
  },
  {
   "cell_type": "code",
   "execution_count": 12,
   "metadata": {},
   "outputs": [
    {
     "data": {
      "text/plain": [
       "[0, 1, 2, 3, 4]"
      ]
     },
     "execution_count": 12,
     "metadata": {},
     "output_type": "execute_result"
    }
   ],
   "source": [
    "b"
   ]
  },
  {
   "cell_type": "markdown",
   "metadata": {},
   "source": [
    "## 可以使用for迴圈語法進行一維陣列的走訪"
   ]
  },
  {
   "cell_type": "code",
   "execution_count": 13,
   "metadata": {},
   "outputs": [
    {
     "name": "stdout",
     "output_type": "stream",
     "text": [
      "0\n",
      "1\n",
      "2\n",
      "3\n",
      "4\n"
     ]
    }
   ],
   "source": [
    "for i in range(len(b)):\n",
    "    print(i)"
   ]
  },
  {
   "cell_type": "markdown",
   "metadata": {},
   "source": [
    "## 一維陣列與map,filter結合"
   ]
  },
  {
   "cell_type": "code",
   "execution_count": 15,
   "metadata": {},
   "outputs": [
    {
     "data": {
      "text/plain": [
       "[0, 1, 4, 9, 16]"
      ]
     },
     "execution_count": 15,
     "metadata": {},
     "output_type": "execute_result"
    }
   ],
   "source": [
    "list(map(lambda x:x**2,b)) #利用map算出平方，就不用for迴圈處理了。"
   ]
  },
  {
   "cell_type": "code",
   "execution_count": 17,
   "metadata": {},
   "outputs": [
    {
     "data": {
      "text/plain": [
       "[1, 3]"
      ]
     },
     "execution_count": 17,
     "metadata": {},
     "output_type": "execute_result"
    }
   ],
   "source": [
    "list(filter(lambda x:x%2==1,b)) #找出奇數"
   ]
  },
  {
   "cell_type": "markdown",
   "metadata": {},
   "source": [
    "## 一維陣列為reduce結合"
   ]
  },
  {
   "cell_type": "code",
   "execution_count": 27,
   "metadata": {},
   "outputs": [
    {
     "data": {
      "text/plain": [
       "10"
      ]
     },
     "execution_count": 27,
     "metadata": {},
     "output_type": "execute_result"
    }
   ],
   "source": [
    "from functools import reduce #請注意要載入相關套件\n",
    "def add(x,y):\n",
    "    return x+y\n",
    "reduce(add,b)"
   ]
  },
  {
   "cell_type": "code",
   "execution_count": 26,
   "metadata": {},
   "outputs": [
    {
     "data": {
      "text/plain": [
       "10"
      ]
     },
     "execution_count": 26,
     "metadata": {},
     "output_type": "execute_result"
    }
   ],
   "source": [
    "#上面的例子也可以寫成\n",
    "from functools import reduce\n",
    "reduce(lambda x,y:x+y,b)"
   ]
  },
  {
   "cell_type": "markdown",
   "metadata": {},
   "source": [
    "## 3.二維陣列\n",
    "\n",
    "許多的一維陣列合起來就會變成二維陣列。 \n",
    "\n",
    "例如班上同學的體檢表，每位學生的體檢資料就像一個個 **一維陣列**，許多同學的體檢資料就可以組成一個 **二維陣列**\n",
    "<table width=\"300\" border=\"1\">\n",
    "　<tr>\n",
    "     <td>座號</td>\n",
    "     <td>身高cm</td>\n",
    "     <td>體重kg</td>\n",
    "     <td>視力</td>\n",
    "　</tr>\n",
    "  <tr>\n",
    "     <td>1</td>\n",
    "     <td>180</td>\n",
    "     <td>70</td>\n",
    "     <td>0.5</td>\n",
    "　</tr>\n",
    "   　<tr>\n",
    "     <td>2</td>\n",
    "     <td>165</td>\n",
    "     <td>60</td>\n",
    "     <td>0.4</td>\n",
    "　</tr>\n",
    "  <tr>\n",
    "     <td>3</td>\n",
    "     <td>175</td>\n",
    "     <td>90</td>\n",
    "     <td>1.0</td>\n",
    "　</tr>\n",
    "  <tr>\n",
    "     <td>4</td>\n",
    "     <td>181</td>\n",
    "     <td>85</td>\n",
    "     <td>0.9</td>\n",
    "　</tr>\n",
    "</table>\n",
    "\n",
    "初始化的程式碼如下："
   ]
  },
  {
   "cell_type": "code",
   "execution_count": 28,
   "metadata": {},
   "outputs": [],
   "source": [
    "data=[\n",
    "    [1,180,70,0.5],\n",
    "    [2,165,60,0.4],\n",
    "    [3,175,90,1.0],\n",
    "    [4,181,85,0.9]\n",
    "]"
   ]
  },
  {
   "cell_type": "code",
   "execution_count": 29,
   "metadata": {},
   "outputs": [
    {
     "data": {
      "text/plain": [
       "[[1, 180, 70, 0.5], [2, 165, 60, 0.4], [3, 175, 90, 1.0], [4, 181, 85, 0.9]]"
      ]
     },
     "execution_count": 29,
     "metadata": {},
     "output_type": "execute_result"
    }
   ],
   "source": [
    "data"
   ]
  },
  {
   "cell_type": "code",
   "execution_count": 31,
   "metadata": {},
   "outputs": [
    {
     "data": {
      "text/plain": [
       "180"
      ]
     },
     "execution_count": 31,
     "metadata": {},
     "output_type": "execute_result"
    }
   ],
   "source": [
    "data[0][1] #取得1號的身高"
   ]
  },
  {
   "cell_type": "code",
   "execution_count": 32,
   "metadata": {},
   "outputs": [
    {
     "data": {
      "text/plain": [
       "0.9"
      ]
     },
     "execution_count": 32,
     "metadata": {},
     "output_type": "execute_result"
    }
   ],
   "source": [
    "data[3][3] #取得4號的視力"
   ]
  },
  {
   "cell_type": "markdown",
   "metadata": {},
   "source": [
    "索引值是先橫列(row)再直欄(column)，所以索引值的的示意圖如下：\n",
    "<table width=\"300\" border=\"1\">\n",
    "　<tr>\n",
    "     <td></td>\n",
    "     <td>直欄0</td>\n",
    "     <td>直欄1</td>\n",
    "     <td>直欄2</td>\n",
    "     <td>直欄3</td>\n",
    "　</tr>\n",
    "  <tr>\n",
    "     <td>橫列0</td>\n",
    "     <td>[0][0]</td>\n",
    "     <td>[0][1]</td>\n",
    "     <td>[0][2]</td>\n",
    "     <td>[0][3]</td>\n",
    "　</tr>\n",
    "   　<tr>\n",
    "     <td>橫列1</td>\n",
    "     <td>[1][0]</td>\n",
    "     <td>[1][1]</td>\n",
    "     <td>[1][2]</td>\n",
    "     <td>[1][3]</td>\n",
    "　</tr>\n",
    "  <tr>\n",
    "     <td>橫列2</td>\n",
    "     <td>[2][0]</td>\n",
    "     <td>[2][1]</td>\n",
    "     <td>[2][2]</td>\n",
    "     <td>[2][3]</td>\n",
    "　</tr>\n",
    "  <tr>\n",
    "     <td>橫列3</td>\n",
    "     <td>[3][0]</td>\n",
    "     <td>[3][1]</td>\n",
    "     <td>[3][2]</td>\n",
    "     <td>[3][3]</td>\n",
    "　</tr>\n",
    "</table>\n",
    "\n",
    "二維陣列的走訪方式：\n",
    "通常是利用兩層for迴圈走訪，外層迴圈控制列row索引，內層迴圈控制欄column索引，舉例如下："
   ]
  },
  {
   "cell_type": "code",
   "execution_count": 33,
   "metadata": {},
   "outputs": [
    {
     "name": "stdout",
     "output_type": "stream",
     "text": [
      "1\n",
      "180\n",
      "70\n",
      "0.5\n",
      "2\n",
      "165\n",
      "60\n",
      "0.4\n",
      "3\n",
      "175\n",
      "90\n",
      "1.0\n",
      "4\n",
      "181\n",
      "85\n",
      "0.9\n"
     ]
    }
   ],
   "source": [
    "for i in range(len(data)):\n",
    "    for j in range(len(data[0])):\n",
    "        print(data[i][j])"
   ]
  },
  {
   "cell_type": "markdown",
   "metadata": {},
   "source": [
    "## 二維陣列的初始化"
   ]
  },
  {
   "cell_type": "code",
   "execution_count": 37,
   "metadata": {},
   "outputs": [],
   "source": [
    "#以4列*5欄的二維陣列而言，初始化為0\n",
    "array2d=[[0 for i in range(5)] for i in range(4)]"
   ]
  },
  {
   "cell_type": "code",
   "execution_count": 36,
   "metadata": {},
   "outputs": [
    {
     "data": {
      "text/plain": [
       "[[0, 0, 0, 0, 0], [0, 0, 0, 0, 0], [0, 0, 0, 0, 0], [0, 0, 0, 0, 0]]"
      ]
     },
     "execution_count": 36,
     "metadata": {},
     "output_type": "execute_result"
    }
   ],
   "source": [
    "array2d"
   ]
  },
  {
   "cell_type": "code",
   "execution_count": null,
   "metadata": {},
   "outputs": [],
   "source": []
  }
 ],
 "metadata": {
  "kernelspec": {
   "display_name": "Python 3",
   "language": "python",
   "name": "python3"
  },
  "language_info": {
   "codemirror_mode": {
    "name": "ipython",
    "version": 3
   },
   "file_extension": ".py",
   "mimetype": "text/x-python",
   "name": "python",
   "nbconvert_exporter": "python",
   "pygments_lexer": "ipython3",
   "version": "3.7.4"
  }
 },
 "nbformat": 4,
 "nbformat_minor": 4
}
