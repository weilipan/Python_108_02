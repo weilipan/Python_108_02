{
 "cells": [
  {
   "cell_type": "markdown",
   "metadata": {},
   "source": [
    "# 二維陣列的運用 - 魔術方陣\n",
    "\n",
    "<code>資料來源:資料結構使用python Data Structure Using Python 蔡明志著 碁峰出版社 2017年6月</code>\n",
    "\n",
    "\n",
    "有一個n\\*n的奇數，其中n為奇數，請你在  n\\*n 的魔術方陣將1到$n^2$的整數填入其中，使其各列、各行及對角線之和皆相等。\n",
    "\n",
    "做法很簡單，首先1填入最上列的中間空格，然後往 **左上方** 走，規則如下：\n",
    "\n",
    "    1.以1的級數增加其值，並將此值填上空格。\n",
    "    2.假使空格已被填滿，則在原地的下一空格填上數字，並繼續往下做。\n",
    "    3.若超出方陣，則往下到最底層或往右到最右方，視兩者中那一個有空格，將數目填上此空格。\n",
    "    4.若兩者皆無空格，則在原地的下一空格填上數字。\n",
    "    \n",
    "例如有一個5\\*5的方陣，其形成魔術方陣的步驟如下，我們以上述4個規則來說明。\n",
    "\n",
    "![連續步驟1](magicsquare1.png)\n",
    "\n",
    "![連續步驟1](magicsquare2.png)\n",
    "\n",
    "![連續步驟1](magicsquare3.png)\n",
    "\n",
    "![連續步驟1](magicsquare4.png)\n",
    "\n",
    "![連續步驟1](magicsquare5.png)\n",
    "\n",
    "![連續步驟1](magicsquare6.png)\n",
    "\n",
    "![連續步驟1](magicsquare7.png)\n",
    "    "
   ]
  },
  {
   "cell_type": "markdown",
   "metadata": {},
   "source": [
    "## 練習題一：請你實作出上面 5\\*5 的魔術方陣"
   ]
  },
  {
   "cell_type": "code",
   "execution_count": null,
   "metadata": {},
   "outputs": [],
   "source": []
  },
  {
   "cell_type": "markdown",
   "metadata": {},
   "source": [
    "## 練習題二：請你實作出上面 n\\*n 的魔術方陣\n",
    "\n",
    "請寫一個函式msquare由使用者輸入一個奇數n，將此n\\*n的魔術方陣實做出來。"
   ]
  },
  {
   "cell_type": "code",
   "execution_count": null,
   "metadata": {},
   "outputs": [],
   "source": []
  },
  {
   "cell_type": "markdown",
   "metadata": {},
   "source": [
    "## 練習題三：請你實作出用來判斷 n\\*n 的魔術方陣，各直行橫列與對角線的和是否皆相等的函式\n",
    "\n",
    "請寫一個函式check_msquare由使用者輸入將完成的魔術方陣傳入，並判斷各直行橫列與對角線是否相等。"
   ]
  }
 ],
 "metadata": {
  "kernelspec": {
   "display_name": "Python 3",
   "language": "python",
   "name": "python3"
  },
  "language_info": {
   "codemirror_mode": {
    "name": "ipython",
    "version": 3
   },
   "file_extension": ".py",
   "mimetype": "text/x-python",
   "name": "python",
   "nbconvert_exporter": "python",
   "pygments_lexer": "ipython3",
   "version": "3.7.4"
  }
 },
 "nbformat": 4,
 "nbformat_minor": 4
}
