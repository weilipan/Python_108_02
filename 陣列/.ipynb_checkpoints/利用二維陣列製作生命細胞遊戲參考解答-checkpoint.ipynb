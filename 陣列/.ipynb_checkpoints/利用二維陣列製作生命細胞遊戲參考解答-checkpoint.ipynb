{
 "cells": [
  {
   "cell_type": "markdown",
   "metadata": {},
   "source": [
    "# 二維陣列的運用-生命細胞遊戲\n",
    "<code>資料來源:資料結構使用python Data Structure Using Python 蔡明志著 碁峰出版社 2017年6月</code>\n",
    "此遊戲在1970年由英國數學家J.H.CONWAY所提出。生命細胞遊戲將串列元素視為細胞，而某一細胞的鄰居乃是指在其垂直、水平、對角線相鄰之細胞(cells)。\n",
    "\n",
    "生命細胞遊戲的規則：\n",
    "\n",
    "<strong>1.孤單死:</strong>若一活細胞只有一個或沒有鄰居細胞存活的，則在下一代，它將孤單而死。(下圖中以\\@表示一細胞，而x符號表示此細胞將死去)如：\n",
    "\n",
    "![孤單死](gameoflife1.png)\n",
    "\n",
    "<strong>2.擁擠死:</strong>若一活細胞有四個或四個以上鄰居細胞亦是活的，則在下一代，它將因擁擠而死。(下圖中以x符號表示此細胞將死去)如：\n",
    "\n",
    "![擁擠死](gameoflife2.png)\n",
    "\n",
    "<strong>3.穩定:</strong>若一活細胞有一個有兩個或三個相鄰活細胞，則下一代它將繼續生存。(下圖中以V表示此細胞將繼續存活)如：\n",
    "\n",
    "![穩定](gameoflife3.png)\n",
    "\n",
    "<strong>4.復活:</strong>若一死細胞正好有三個相鄰的活細胞，則在下一代它將復活。(下圖中以\\*表示此位置將復活一細胞)如：\n",
    "\n",
    "![復活](gameoflife4.png)\n",
    "\n",
    "由上規則可得:\n",
    "    \n",
    "    1.某細胞若有0或1個相鄰細胞，則它在下一代將會因孤單而死。\n",
    "    2.某細胞若有4,5,6,7,8個相鄰細胞，則它在下一代將會因擁擠而死。\n",
    "    3.某細胞若有2個相鄰活細胞，則它在下一代將保持不變。\n",
    "    4.某細胞若有3個相鄰活細胞者，則不管其現在是生是死，下一代會是活的。"
   ]
  },
  {
   "cell_type": "markdown",
   "metadata": {},
   "source": [
    "## 範例一\n",
    "\n",
    "![範例一](gameoflife5.png)\n",
    "\n",
    "我們將上圖填上每一細胞的相鄰活細胞個數\n",
    "\n",
    "![範例一](gameoflife6.png)\n",
    "\n",
    "根據規則1，圖中的細胞將孤單而死。"
   ]
  },
  {
   "cell_type": "markdown",
   "metadata": {},
   "source": [
    "## 範例二\n",
    "![範例二](gameoflife7.png)\n",
    "\n",
    "某一細胞若相鄰的活細胞為2或3，則它將會存活下來，但圖中死細胞其相鄰的活細胞都是小於或等於2，故不能再生，所以已成為穩定狀態。"
   ]
  },
  {
   "cell_type": "markdown",
   "metadata": {},
   "source": [
    "## 範例三\n",
    "![範例三](gameoflife8.png)\n",
    "\n",
    "根據上述規則，它的下一代將為\n",
    "\n",
    "![範例三](gameoflife9.png)\n",
    "\n",
    "這兩張圖會來回的互換。"
   ]
  },
  {
   "cell_type": "markdown",
   "metadata": {},
   "source": [
    "# 生命細胞遊戲實作\n",
    "盤面範圍為9個橫列與24直欄。\n",
    "\n",
    "給定初始若干組的活細胞的初始座標，以座標(-1,-1)當作結尾，利用while迴圈的方式，\n",
    "\n",
    "當玩家輸入'y'時繼續模擬下一盤面，直到玩家輸入'n'則結束模擬，離開遊戲。\n",
    "\n",
    "參考下方的遊戲過程進行實作。\n",
    "\n",
    "![實作](gameoflifeex1.png)\n",
    "\n",
    "![實作](gameoflifeex2.png)\n",
    "\n",
    "![實作](gameoflifeex3.png)"
   ]
  }
 ],
 "metadata": {
  "kernelspec": {
   "display_name": "Python 3",
   "language": "python",
   "name": "python3"
  },
  "language_info": {
   "codemirror_mode": {
    "name": "ipython",
    "version": 3
   },
   "file_extension": ".py",
   "mimetype": "text/x-python",
   "name": "python",
   "nbconvert_exporter": "python",
   "pygments_lexer": "ipython3",
   "version": "3.7.4"
  }
 },
 "nbformat": 4,
 "nbformat_minor": 4
}
